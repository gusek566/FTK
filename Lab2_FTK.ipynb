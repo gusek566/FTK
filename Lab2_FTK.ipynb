{
 "cells": [
  {
   "cell_type": "code",
   "execution_count": 3,
   "id": "28b08d23",
   "metadata": {
    "scrolled": false
   },
   "outputs": [
    {
     "data": {
      "application/vnd.jupyter.widget-view+json": {
       "model_id": "221d5d2b5b3b49178b591b051b972e5d",
       "version_major": 2,
       "version_minor": 0
      },
      "text/plain": [
       "interactive(children=(IntSlider(value=0, description='DTA_baslinje', max=50, min=-50), IntSlider(value=475, de…"
      ]
     },
     "metadata": {},
     "output_type": "display_data"
    },
    {
     "data": {
      "text/plain": [
       "<function __main__.plot(DTA_baslinje, start, stop, TGAmin, TGAmax)>"
      ]
     },
     "execution_count": 3,
     "metadata": {},
     "output_type": "execute_result"
    }
   ],
   "source": [
    "%matplotlib widget\n",
    "from ipywidgets import *\n",
    "import numpy as np\n",
    "import matplotlib.pyplot as plt\n",
    "from scipy import integrate\n",
    "\n",
    "borsyra = np.genfromtxt(r\"Borsyra2.txt\", skip_header=4, delimiter='')\n",
    "\n",
    "baslinje = borsyra[:,0]\n",
    "baslinje = baslinje*0\n",
    "\n",
    "\n",
    "def plot(DTA_baslinje, start, stop, TGAmin, TGAmax):\n",
    "    fig, (ax1,ax2) = plt.subplots(2,1)\n",
    "    ax1.plot(borsyra[:,0],borsyra[:,1], color='black')\n",
    "    ax2.plot(borsyra[:,0],borsyra[:,1], color='black')\n",
    "    ax1.set_xlim(np.min(borsyra[:,0]), np.max(borsyra[:,0]))\n",
    "    ax2.set_xlim(np.min(borsyra[:,0]), np.max(borsyra[:,0]))\n",
    "    ax4 = ax2.twinx()\n",
    "    ax3 = ax1.twinx()\n",
    "    #ax3.spines['right'].set_position(('outward', -60))\n",
    "    ax4.plot(borsyra[:,0],borsyra[:,2], color='green')\n",
    "    ax3.plot(borsyra[:, 0],borsyra[:,3], color='red')\n",
    "\n",
    "    ax1.set_ylabel('Temperatur (C)', color='black')\n",
    "    ax1.set_xticks([])\n",
    "    ax2.set_ylabel('Temperatur (C)', color='black')\n",
    "    ax2.set_xlabel('Tid (s)')\n",
    "    ax4.set_ylabel('TG (mg)', color='green')\n",
    "    ax3.set_ylabel('DTA', color='red')\n",
    "    ax1.tick_params('y', colors='black')\n",
    "    ax4.tick_params('y', colors='green')\n",
    "    ax3.tick_params('y', colors='red')\n",
    "    ax3.plot(borsyra[:,0], baslinje+DTA_baslinje, color='red', linestyle='--')\n",
    "    ax3.fill_between(borsyra[start:stop,0], baslinje[start:stop]+DTA_baslinje, borsyra[start:stop,3], alpha=0.5, color='cyan')\n",
    "    plt.show()\n",
    "    y_int = np.trapz([borsyra[start:stop,3], baslinje[start:stop]+DTA_baslinje])\n",
    "    print('Integrerad DTA-signal:')\n",
    "    print(np.sum(y_int))\n",
    "    \n",
    "    ax4.plot([np.min(borsyra[:,0]), np.max(borsyra[:,0])], [TGAmin, TGAmin], color='black', linestyle='--')\n",
    "    ax4.plot([np.min(borsyra[:,0]), np.max(borsyra[:,0])], [TGAmax, TGAmax], color='black', linestyle='--')\n",
    "    delta_m = TGAmax-TGAmin\n",
    "    print(\"Massförändring:\")\n",
    "    print(delta_m)\n",
    "    \n",
    "    \n",
    "interact_manual(plot, DTA_baslinje=(-50,50), start=(200,750), stop=(600,1600,), TGAmin=(-25,0,0.01), TGAmax=(-20,0,0.01))"
   ]
  },
  {
   "cell_type": "code",
   "execution_count": null,
   "id": "d9aef9da",
   "metadata": {},
   "outputs": [],
   "source": []
  }
 ],
 "metadata": {
  "kernelspec": {
   "display_name": "Python 3 (ipykernel)",
   "language": "python",
   "name": "python3"
  },
  "language_info": {
   "codemirror_mode": {
    "name": "ipython",
    "version": 3
   },
   "file_extension": ".py",
   "mimetype": "text/x-python",
   "name": "python",
   "nbconvert_exporter": "python",
   "pygments_lexer": "ipython3",
   "version": "3.10.1"
  }
 },
 "nbformat": 4,
 "nbformat_minor": 5
}
